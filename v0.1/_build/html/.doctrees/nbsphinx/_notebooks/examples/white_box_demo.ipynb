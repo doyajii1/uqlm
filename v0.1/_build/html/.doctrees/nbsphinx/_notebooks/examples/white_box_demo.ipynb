{
 "cells": [
  {
   "cell_type": "markdown",
   "metadata": {},
   "source": [
    "# White-Box Uncertainty Quantification Demo"
   ]
  },
  {
   "cell_type": "markdown",
   "metadata": {},
   "source": [
    "Content\n",
    "1. [Introduction](#section1')\n",
    "2. [Set up LLM and Prompts](#section2')\n",
    "3. [Generate Responses and Confidence Scores](#section3')<br>\n",
    "4. [Performance Evaluation](#section4')"
   ]
  },
  {
   "cell_type": "code",
   "execution_count": 1,
   "metadata": {
    "tags": []
   },
   "outputs": [
    {
     "name": "stderr",
     "output_type": "stream",
     "text": [
      "2025-03-12 18:27:00.463681: E external/local_xla/xla/stream_executor/cuda/cuda_fft.cc:477] Unable to register cuFFT factory: Attempting to register factory for plugin cuFFT when one has already been registered\n",
      "WARNING: All log messages before absl::InitializeLog() is called are written to STDERR\n",
      "E0000 00:00:1741804020.486786   34469 cuda_dnn.cc:8310] Unable to register cuDNN factory: Attempting to register factory for plugin cuDNN when one has already been registered\n",
      "E0000 00:00:1741804020.493735   34469 cuda_blas.cc:1418] Unable to register cuBLAS factory: Attempting to register factory for plugin cuBLAS when one has already been registered\n",
      "2025-03-12 18:27:00.517439: I tensorflow/core/platform/cpu_feature_guard.cc:210] This TensorFlow binary is optimized to use available CPU instructions in performance-critical operations.\n",
      "To enable the following instructions: AVX2 FMA, in other operations, rebuild TensorFlow with the appropriate compiler flags.\n"
     ]
    }
   ],
   "source": [
    "import warnings\n",
    "\n",
    "import numpy as np\n",
    "from sklearn.metrics import precision_score, recall_score, f1_score\n",
    "\n",
    "from uqlm.utils import load_example_dataset, math_postprocessor, plot_model_accuracies, Tuner\n",
    "from uqlm.quantifiers import WhiteBoxUQ\n",
    "\n",
    "warnings.filterwarnings(\"ignore\")"
   ]
  },
  {
   "cell_type": "markdown",
   "metadata": {},
   "source": [
    "<a id='section1'></a>\n",
    "## 1. Introduction"
   ]
  },
  {
   "cell_type": "markdown",
   "metadata": {
    "tags": []
   },
   "source": [
    "White-box Uncertainty Quantification (UQ) methods leverage token probabilities to estimate uncertainty.  They are significantly faster and cheaper than black-box methods, but require access to the LLM's internal probabilities, meaning they are not necessarily compatible with all LLMs/APIs. This demo provides an illustration of how to use state-of-the-art white-box UQ methods with `uqlm`.\n",
    "\n",
    "**Pros:**\n",
    "\n",
    "*   ✅  **Minimal Latency Impact:** Token probabilities are typically already returned by the LLM.\n",
    "*   ✅  **No Added Cost:**  Doesn't require additional LLM calls.\n",
    "\n",
    "**Cons:**\n",
    "\n",
    "*   ⚠️  **Limited Compatibility:** Requires access to token probabilities, not available for all LLMs/APIs. For example, \n",
    "\n",
    "**Available Scorers:**\n",
    "\n",
    "*   Minimum token probability ([Manakul et al., 2023](https://arxiv.org/abs/2303.08896))\n",
    "*   Perplexity ([Fadeeva et al., 2024](https://arxiv.org/pdf/2403.04696))\n",
    "*   Length-Normalized Joint Token Probability ([Malinin & Gales, 2021](https://arxiv.org/pdf/2002.07650))"
   ]
  },
  {
   "cell_type": "markdown",
   "metadata": {},
   "source": [
    "<a id='section2'></a>\n",
    "## 2. Set up LLM and Prompts"
   ]
  },
  {
   "cell_type": "code",
   "execution_count": 2,
   "metadata": {
    "tags": []
   },
   "outputs": [
    {
     "name": "stdout",
     "output_type": "stream",
     "text": [
      "Loading dataset - svamp...\n",
      "Processing dataset...\n",
      "Dataset ready!\n"
     ]
    },
    {
     "data": {
      "text/html": [
       "<div>\n",
       "<style scoped>\n",
       "    .dataframe tbody tr th:only-of-type {\n",
       "        vertical-align: middle;\n",
       "    }\n",
       "\n",
       "    .dataframe tbody tr th {\n",
       "        vertical-align: top;\n",
       "    }\n",
       "\n",
       "    .dataframe thead th {\n",
       "        text-align: right;\n",
       "    }\n",
       "</style>\n",
       "<table border=\"1\" class=\"dataframe\">\n",
       "  <thead>\n",
       "    <tr style=\"text-align: right;\">\n",
       "      <th></th>\n",
       "      <th>question</th>\n",
       "      <th>answer</th>\n",
       "    </tr>\n",
       "  </thead>\n",
       "  <tbody>\n",
       "    <tr>\n",
       "      <th>0</th>\n",
       "      <td>There are 87 oranges and 290 bananas in Philip...</td>\n",
       "      <td>145</td>\n",
       "    </tr>\n",
       "    <tr>\n",
       "      <th>1</th>\n",
       "      <td>Marco and his dad went strawberry picking. Mar...</td>\n",
       "      <td>19</td>\n",
       "    </tr>\n",
       "    <tr>\n",
       "      <th>2</th>\n",
       "      <td>Edward spent $ 6 to buy 2 books each book cost...</td>\n",
       "      <td>3</td>\n",
       "    </tr>\n",
       "    <tr>\n",
       "      <th>3</th>\n",
       "      <td>Frank was reading through his favorite book. T...</td>\n",
       "      <td>198</td>\n",
       "    </tr>\n",
       "    <tr>\n",
       "      <th>4</th>\n",
       "      <td>There were 78 dollars in Olivia's wallet. She ...</td>\n",
       "      <td>63</td>\n",
       "    </tr>\n",
       "  </tbody>\n",
       "</table>\n",
       "</div>"
      ],
      "text/plain": [
       "                                            question answer\n",
       "0  There are 87 oranges and 290 bananas in Philip...    145\n",
       "1  Marco and his dad went strawberry picking. Mar...     19\n",
       "2  Edward spent $ 6 to buy 2 books each book cost...      3\n",
       "3  Frank was reading through his favorite book. T...    198\n",
       "4  There were 78 dollars in Olivia's wallet. She ...     63"
      ]
     },
     "execution_count": 2,
     "metadata": {},
     "output_type": "execute_result"
    }
   ],
   "source": [
    "# Load example dataset (SVAMP)\n",
    "svamp = (\n",
    "    load_example_dataset(\"svamp\")\n",
    "    .rename(columns={\"question_concat\": \"question\", \"Answer\": \"answer\"})[\n",
    "        [\"question\", \"answer\"]\n",
    "    ]\n",
    "    .head(20)\n",
    ")\n",
    "svamp.head()"
   ]
  },
  {
   "cell_type": "code",
   "execution_count": 3,
   "metadata": {
    "tags": []
   },
   "outputs": [],
   "source": [
    "# Define prompts\n",
    "MATH_INSTRUCTION = (\n",
    "    \"When you solve this math problem only return the answer with no additional text.\\n\"\n",
    ")\n",
    "prompts = [MATH_INSTRUCTION + prompt for prompt in svamp.question]"
   ]
  },
  {
   "cell_type": "code",
   "execution_count": 4,
   "metadata": {
    "tags": []
   },
   "outputs": [],
   "source": [
    "# Instantiate BaseChatModel\n",
    "from langchain_google_vertexai import ChatVertexAI\n",
    "\n",
    "llm = ChatVertexAI(model=\"gemini-pro\")"
   ]
  },
  {
   "cell_type": "markdown",
   "metadata": {},
   "source": [
    "Note that although we use `ChatVertexAI` in this example, any [LangChain Chat Model](https://js.langchain.com/docs/integrations/chat/) may be used."
   ]
  },
  {
   "cell_type": "markdown",
   "metadata": {},
   "source": [
    "<a id='section3'></a>\n",
    "## 3. Generate responses and confidence scores"
   ]
  },
  {
   "cell_type": "markdown",
   "metadata": {},
   "source": [
    "#### `WhiteBoxUQ()` - Class for computing token probability-based confidence scores on LLM responses for the provided prompts (hallucination detection).\n",
    "\n",
    "**Class Attributes:**\n",
    "- `llm` (**BaseChatModel, default=None**) A langchain llm (`BaseChatModel`). User is responsible for specifying temperature and other relevant parameters to the constructor of their `BaseChatModel` object.\n",
    "- `system_prompt` - (**str or None, default=\"You are a helpful assistant.\"**) Optional argument for user to provide custom system prompt\n",
    "- `max_calls_per_min` - (**int, default=None**) Specifies how many api calls to make per minute to avoid a rate limit error. By default, no limit is specified.\n",
    "- `scorers` - (**subset of {\"imperplexity\", \"geometric_mean_probability\", \"min_probability\", \"max_probability\"}, default=None**) Specifies which black box (consistency) scorers to include. If None, defaults to all. \n",
    "\n",
    "**Class Methods:**\n",
    "1. `evaluate` - Generate responses and evaluate token probability-based confidence scores on LLM responses for the provided prompts.\n",
    "\n",
    "    **Method Attributes:**\n",
    "    - `prompts` - (**list of str**) A list of input prompts for the model.\n",
    "\n",
    "    **Returns:**\n",
    "        `UQResult`"
   ]
  },
  {
   "cell_type": "code",
   "execution_count": 5,
   "metadata": {
    "tags": []
   },
   "outputs": [
    {
     "name": "stdout",
     "output_type": "stream",
     "text": [
      "Generating responses...\n"
     ]
    }
   ],
   "source": [
    "wbuq = WhiteBoxUQ(llm=llm)\n",
    "results = await wbuq.evaluate(prompts=prompts)"
   ]
  },
  {
   "cell_type": "code",
   "execution_count": 6,
   "metadata": {
    "tags": []
   },
   "outputs": [
    {
     "data": {
      "text/html": [
       "<div>\n",
       "<style scoped>\n",
       "    .dataframe tbody tr th:only-of-type {\n",
       "        vertical-align: middle;\n",
       "    }\n",
       "\n",
       "    .dataframe tbody tr th {\n",
       "        vertical-align: top;\n",
       "    }\n",
       "\n",
       "    .dataframe thead th {\n",
       "        text-align: right;\n",
       "    }\n",
       "</style>\n",
       "<table border=\"1\" class=\"dataframe\">\n",
       "  <thead>\n",
       "    <tr style=\"text-align: right;\">\n",
       "      <th></th>\n",
       "      <th>prompt</th>\n",
       "      <th>response</th>\n",
       "      <th>logprob</th>\n",
       "      <th>normalized_probability</th>\n",
       "      <th>min_probability</th>\n",
       "      <th>max_probability</th>\n",
       "    </tr>\n",
       "  </thead>\n",
       "  <tbody>\n",
       "    <tr>\n",
       "      <th>0</th>\n",
       "      <td>When you solve this math problem only return t...</td>\n",
       "      <td>145</td>\n",
       "      <td>[{'token': '1', 'logprob': -0.0545064397156238...</td>\n",
       "      <td>0.981767</td>\n",
       "      <td>0.946952</td>\n",
       "      <td>0.999905</td>\n",
       "    </tr>\n",
       "    <tr>\n",
       "      <th>1</th>\n",
       "      <td>When you solve this math problem only return t...</td>\n",
       "      <td>19</td>\n",
       "      <td>[{'token': '1', 'logprob': -0.0217719040811061...</td>\n",
       "      <td>0.987856</td>\n",
       "      <td>0.978463</td>\n",
       "      <td>0.997338</td>\n",
       "    </tr>\n",
       "    <tr>\n",
       "      <th>2</th>\n",
       "      <td>When you solve this math problem only return t...</td>\n",
       "      <td>$ 9.00</td>\n",
       "      <td>[{'token': '$', 'logprob': -0.0915694460272789...</td>\n",
       "      <td>0.285509</td>\n",
       "      <td>0.017911</td>\n",
       "      <td>0.985661</td>\n",
       "    </tr>\n",
       "    <tr>\n",
       "      <th>3</th>\n",
       "      <td>When you solve this math problem only return t...</td>\n",
       "      <td>198</td>\n",
       "      <td>[{'token': '1', 'logprob': -0.0271051470190286...</td>\n",
       "      <td>0.990932</td>\n",
       "      <td>0.973259</td>\n",
       "      <td>0.999923</td>\n",
       "    </tr>\n",
       "    <tr>\n",
       "      <th>4</th>\n",
       "      <td>When you solve this math problem only return t...</td>\n",
       "      <td>63 dollars.</td>\n",
       "      <td>[{'token': '6', 'logprob': -0.1229766160249710...</td>\n",
       "      <td>0.598953</td>\n",
       "      <td>0.349287</td>\n",
       "      <td>0.999001</td>\n",
       "    </tr>\n",
       "  </tbody>\n",
       "</table>\n",
       "</div>"
      ],
      "text/plain": [
       "                                              prompt     response  \\\n",
       "0  When you solve this math problem only return t...          145   \n",
       "1  When you solve this math problem only return t...           19   \n",
       "2  When you solve this math problem only return t...       $ 9.00   \n",
       "3  When you solve this math problem only return t...          198   \n",
       "4  When you solve this math problem only return t...  63 dollars.   \n",
       "\n",
       "                                             logprob  normalized_probability  \\\n",
       "0  [{'token': '1', 'logprob': -0.0545064397156238...                0.981767   \n",
       "1  [{'token': '1', 'logprob': -0.0217719040811061...                0.987856   \n",
       "2  [{'token': '$', 'logprob': -0.0915694460272789...                0.285509   \n",
       "3  [{'token': '1', 'logprob': -0.0271051470190286...                0.990932   \n",
       "4  [{'token': '6', 'logprob': -0.1229766160249710...                0.598953   \n",
       "\n",
       "   min_probability  max_probability  \n",
       "0         0.946952         0.999905  \n",
       "1         0.978463         0.997338  \n",
       "2         0.017911         0.985661  \n",
       "3         0.973259         0.999923  \n",
       "4         0.349287         0.999001  "
      ]
     },
     "execution_count": 6,
     "metadata": {},
     "output_type": "execute_result"
    }
   ],
   "source": [
    "result_df = results.to_df()\n",
    "result_df.head()"
   ]
  },
  {
   "cell_type": "markdown",
   "metadata": {},
   "source": [
    "<a id='section4'></a>\n",
    "## 4. Evaluate performance"
   ]
  },
  {
   "cell_type": "code",
   "execution_count": 7,
   "metadata": {
    "tags": []
   },
   "outputs": [
    {
     "data": {
      "text/html": [
       "<div>\n",
       "<style scoped>\n",
       "    .dataframe tbody tr th:only-of-type {\n",
       "        vertical-align: middle;\n",
       "    }\n",
       "\n",
       "    .dataframe tbody tr th {\n",
       "        vertical-align: top;\n",
       "    }\n",
       "\n",
       "    .dataframe thead th {\n",
       "        text-align: right;\n",
       "    }\n",
       "</style>\n",
       "<table border=\"1\" class=\"dataframe\">\n",
       "  <thead>\n",
       "    <tr style=\"text-align: right;\">\n",
       "      <th></th>\n",
       "      <th>prompt</th>\n",
       "      <th>response</th>\n",
       "      <th>logprob</th>\n",
       "      <th>normalized_probability</th>\n",
       "      <th>min_probability</th>\n",
       "      <th>max_probability</th>\n",
       "      <th>answer</th>\n",
       "      <th>response_correct</th>\n",
       "    </tr>\n",
       "  </thead>\n",
       "  <tbody>\n",
       "    <tr>\n",
       "      <th>0</th>\n",
       "      <td>When you solve this math problem only return t...</td>\n",
       "      <td>145</td>\n",
       "      <td>[{'token': '1', 'logprob': -0.0545064397156238...</td>\n",
       "      <td>0.981767</td>\n",
       "      <td>0.946952</td>\n",
       "      <td>0.999905</td>\n",
       "      <td>145</td>\n",
       "      <td>True</td>\n",
       "    </tr>\n",
       "    <tr>\n",
       "      <th>1</th>\n",
       "      <td>When you solve this math problem only return t...</td>\n",
       "      <td>19</td>\n",
       "      <td>[{'token': '1', 'logprob': -0.0217719040811061...</td>\n",
       "      <td>0.987856</td>\n",
       "      <td>0.978463</td>\n",
       "      <td>0.997338</td>\n",
       "      <td>19</td>\n",
       "      <td>True</td>\n",
       "    </tr>\n",
       "    <tr>\n",
       "      <th>2</th>\n",
       "      <td>When you solve this math problem only return t...</td>\n",
       "      <td>$ 9.00</td>\n",
       "      <td>[{'token': '$', 'logprob': -0.0915694460272789...</td>\n",
       "      <td>0.285509</td>\n",
       "      <td>0.017911</td>\n",
       "      <td>0.985661</td>\n",
       "      <td>3</td>\n",
       "      <td>False</td>\n",
       "    </tr>\n",
       "    <tr>\n",
       "      <th>3</th>\n",
       "      <td>When you solve this math problem only return t...</td>\n",
       "      <td>198</td>\n",
       "      <td>[{'token': '1', 'logprob': -0.0271051470190286...</td>\n",
       "      <td>0.990932</td>\n",
       "      <td>0.973259</td>\n",
       "      <td>0.999923</td>\n",
       "      <td>198</td>\n",
       "      <td>True</td>\n",
       "    </tr>\n",
       "    <tr>\n",
       "      <th>4</th>\n",
       "      <td>When you solve this math problem only return t...</td>\n",
       "      <td>63 dollars.</td>\n",
       "      <td>[{'token': '6', 'logprob': -0.1229766160249710...</td>\n",
       "      <td>0.598953</td>\n",
       "      <td>0.349287</td>\n",
       "      <td>0.999001</td>\n",
       "      <td>63</td>\n",
       "      <td>True</td>\n",
       "    </tr>\n",
       "  </tbody>\n",
       "</table>\n",
       "</div>"
      ],
      "text/plain": [
       "                                              prompt     response  \\\n",
       "0  When you solve this math problem only return t...          145   \n",
       "1  When you solve this math problem only return t...           19   \n",
       "2  When you solve this math problem only return t...       $ 9.00   \n",
       "3  When you solve this math problem only return t...          198   \n",
       "4  When you solve this math problem only return t...  63 dollars.   \n",
       "\n",
       "                                             logprob  normalized_probability  \\\n",
       "0  [{'token': '1', 'logprob': -0.0545064397156238...                0.981767   \n",
       "1  [{'token': '1', 'logprob': -0.0217719040811061...                0.987856   \n",
       "2  [{'token': '$', 'logprob': -0.0915694460272789...                0.285509   \n",
       "3  [{'token': '1', 'logprob': -0.0271051470190286...                0.990932   \n",
       "4  [{'token': '6', 'logprob': -0.1229766160249710...                0.598953   \n",
       "\n",
       "   min_probability  max_probability answer  response_correct  \n",
       "0         0.946952         0.999905    145              True  \n",
       "1         0.978463         0.997338     19              True  \n",
       "2         0.017911         0.985661      3             False  \n",
       "3         0.973259         0.999923    198              True  \n",
       "4         0.349287         0.999001     63              True  "
      ]
     },
     "execution_count": 7,
     "metadata": {},
     "output_type": "execute_result"
    }
   ],
   "source": [
    "# Populate correct answers and grade responses\n",
    "result_df[\"answer\"] = svamp.answer\n",
    "result_df[\"response_correct\"] = [\n",
    "    math_postprocessor(r) == a for r, a in zip(result_df[\"response\"], svamp[\"answer\"])\n",
    "]\n",
    "result_df.head(5)"
   ]
  },
  {
   "cell_type": "code",
   "execution_count": 8,
   "metadata": {
    "tags": []
   },
   "outputs": [
    {
     "name": "stdout",
     "output_type": "stream",
     "text": [
      "Baseline LLM accuracy: 0.7\n"
     ]
    }
   ],
   "source": [
    "print(f\"\"\"Baseline LLM accuracy: {np.mean(result_df[\"response_correct\"])}\"\"\")"
   ]
  },
  {
   "cell_type": "markdown",
   "metadata": {},
   "source": [
    "Next we will plot filtered LLM accuracy at various confidence score thresholds. The idea is to measure the LLM's performance when we consider responses with confidence scores above a given threshold."
   ]
  },
  {
   "cell_type": "code",
   "execution_count": 9,
   "metadata": {
    "tags": []
   },
   "outputs": [
    {
     "data": {
      "image/png": "[encoded data removed]",
      "text/plain": [
       "<Figure size 640x480 with 1 Axes>"
      ]
     },
     "metadata": {},
     "output_type": "display_data"
    },
    {
     "data": {
      "image/png": "[encoded data removed]",
      "text/plain": [
       "<Figure size 640x480 with 1 Axes>"
      ]
     },
     "metadata": {},
     "output_type": "display_data"
    }
   ],
   "source": [
    "for scorer in [\"normalized_probability\", \"min_probability\"]:\n",
    "    plot_model_accuracies(\n",
    "        scores=result_df[scorer],\n",
    "        correct_indicators=result_df.response_correct,\n",
    "        title=f\"LLM Accuracy by {scorer} Score Threshold\",\n",
    "    )"
   ]
  },
  {
   "cell_type": "markdown",
   "metadata": {},
   "source": [
    "Lastly, we will compute the optimal threshold for binarizing confidence scores, using F1-score as the objective. Using this threshold, we can compute precision, recall, and F1-score for white box scorer predictions of whether responses are correct."
   ]
  },
  {
   "cell_type": "code",
   "execution_count": 10,
   "metadata": {
    "tags": []
   },
   "outputs": [
    {
     "name": "stdout",
     "output_type": "stream",
     "text": [
      "normalized_probability score F1-optimal threshold: 0.51\n",
      " \n",
      "normalized_probability precision: 0.9230769230769231\n",
      "normalized_probability recall: 0.8571428571428571\n",
      "normalized_probability f1-score: 0.8888888888888888\n",
      " \n",
      " \n",
      "min_probability score F1-optimal threshold: 0.21\n",
      " \n",
      "min_probability precision: 0.9230769230769231\n",
      "min_probability recall: 0.8571428571428571\n",
      "min_probability f1-score: 0.8888888888888888\n",
      " \n",
      " \n"
     ]
    }
   ],
   "source": [
    "# instantiate UQLM tuner object for threshold selection\n",
    "t = Tuner()\n",
    "\n",
    "correct_indicators = (\n",
    "    result_df.response_correct\n",
    ") * 1  # Whether responses is actually correct\n",
    "for scorer in [\"normalized_probability\", \"min_probability\"]:\n",
    "    y_scores = result_df[scorer]  # confidence score\n",
    "\n",
    "    # Solve for threshold that maximizes F1-score\n",
    "    best_threshold = t.tune_threshold(\n",
    "        y_scores=y_scores,\n",
    "        correct_indicators=correct_indicators,\n",
    "        thresh_objective=\"fbeta_score\",\n",
    "    )\n",
    "    y_pred = [\n",
    "        (s > best_threshold) * 1 for s in y_scores\n",
    "    ]  # predicts whether response is correct based on confidence score\n",
    "    print(f\"{scorer} score F1-optimal threshold: {best_threshold}\")\n",
    "    print(\" \")\n",
    "\n",
    "    # evaluate precision, recall, and f1-score of predictions of correctness\n",
    "    print(\n",
    "        f\"{scorer} precision: {precision_score(y_true=correct_indicators, y_pred=y_pred)}\"\n",
    "    )\n",
    "    print(f\"{scorer} recall: {recall_score(y_true=correct_indicators, y_pred=y_pred)}\")\n",
    "    print(f\"{scorer} f1-score: {f1_score(y_true=correct_indicators, y_pred=y_pred)}\")\n",
    "    print(\" \")\n",
    "    print(\" \")"
   ]
  },
  {
   "cell_type": "code",
   "execution_count": null,
   "metadata": {},
   "outputs": [],
   "source": []
  }
 ],
 "metadata": {
  "environment": {
   "kernel": "uqlm",
   "name": "workbench-notebooks.m126",
   "type": "gcloud",
   "uri": "us-docker.pkg.dev/deeplearning-platform-release/gcr.io/workbench-notebooks:m126"
  },
  "kernelspec": {
   "display_name": "uqlm",
   "language": "python",
   "name": "uqlm"
  },
  "language_info": {
   "codemirror_mode": {
    "name": "ipython",
    "version": 3
   },
   "file_extension": ".py",
   "mimetype": "text/x-python",
   "name": "python",
   "nbconvert_exporter": "python",
   "pygments_lexer": "ipython3",
   "version": "3.9.21"
  }
 },
 "nbformat": 4,
 "nbformat_minor": 4
}
