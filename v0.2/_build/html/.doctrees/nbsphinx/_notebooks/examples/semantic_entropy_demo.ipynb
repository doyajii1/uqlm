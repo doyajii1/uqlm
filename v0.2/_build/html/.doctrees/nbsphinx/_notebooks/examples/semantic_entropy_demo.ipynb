{
 "cells": [
  {
   "cell_type": "markdown",
   "metadata": {},
   "source": [
    "# Semantic Entropy ([Farquhar et al., 2024](https://www.nature.com/articles/s41586-024-07421-0)) Demo"
   ]
  },
  {
   "cell_type": "markdown",
   "metadata": {},
   "source": [
    "Content\n",
    "1. [Introduction](#section1')\n",
    "2. [Set up LLM and Prompts](#section2')\n",
    "3. [Generate Responses and Confidence Scores](#section3')<br>\n",
    "4. [Performance Evaluation](#section4')"
   ]
  },
  {
   "cell_type": "code",
   "execution_count": 1,
   "metadata": {
    "tags": []
   },
   "outputs": [
    {
     "name": "stderr",
     "output_type": "stream",
     "text": [
      "/home/jupyter/.cache/pypoetry/virtualenvs/uqlm-g7jzkC-R-py3.10/lib/python3.10/site-packages/tqdm/auto.py:21: TqdmWarning: IProgress not found. Please update jupyter and ipywidgets. See https://ipywidgets.readthedocs.io/en/stable/user_install.html\n",
      "  from .autonotebook import tqdm as notebook_tqdm\n",
      "2025-03-05 18:16:36.595153: E external/local_xla/xla/stream_executor/cuda/cuda_fft.cc:477] Unable to register cuFFT factory: Attempting to register factory for plugin cuFFT when one has already been registered\n",
      "WARNING: All log messages before absl::InitializeLog() is called are written to STDERR\n",
      "E0000 00:00:1741198596.659426   20799 cuda_dnn.cc:8310] Unable to register cuDNN factory: Attempting to register factory for plugin cuDNN when one has already been registered\n",
      "E0000 00:00:1741198596.667788   20799 cuda_blas.cc:1418] Unable to register cuBLAS factory: Attempting to register factory for plugin cuBLAS when one has already been registered\n",
      "2025-03-05 18:16:36.898802: I tensorflow/core/platform/cpu_feature_guard.cc:210] This TensorFlow binary is optimized to use available CPU instructions in performance-critical operations.\n",
      "To enable the following instructions: AVX2 FMA, in other operations, rebuild TensorFlow with the appropriate compiler flags.\n"
     ]
    }
   ],
   "source": [
    "import warnings\n",
    "\n",
    "import numpy as np\n",
    "from sklearn.metrics import precision_score, recall_score, f1_score\n",
    "\n",
    "from uqlm.utils import load_example_dataset, math_postprocessor, plot_model_accuracies, Tuner\n",
    "from uqlm.quantifiers import SemanticEntropy\n",
    "\n",
    "warnings.filterwarnings(\"ignore\")"
   ]
  },
  {
   "cell_type": "markdown",
   "metadata": {},
   "source": [
    "<a id='section1'></a>\n",
    "## 1. Introduction"
   ]
  },
  {
   "cell_type": "markdown",
   "metadata": {
    "tags": []
   },
   "source": [
    "Black-box Uncertainty Quantification (UQ) methods treat the LLM as a black box and evaluate response consistency to estimate response-level confidence. This demo provides an illustration of a state-of-the-art black-box UQ method known as Semantic Entropy ([Farquhar et al., 2024](https://www.nature.com/articles/s41586-024-07421-0)).\n",
    "\n",
    "**Pros:**\n",
    "\n",
    "*   ✅  **Universal Compatibility:** Works with any LLM.\n",
    "*   ✅  **Intuitive:** Easy to understand and implement.\n",
    "*   ✅  **No Internal Access Required:** Doesn't need token probabilities or model internals.\n",
    "\n",
    "**Cons:**\n",
    "\n",
    "*   ⚠️  **Higher Cost:** Requires multiple generations per prompt.\n",
    "*   ⚠️  **Slower:**  Multiple generations and comparison calculations increase latency."
   ]
  },
  {
   "cell_type": "markdown",
   "metadata": {},
   "source": [
    "<a id='section2'></a>\n",
    "## 2. Set up LLM and Prompts"
   ]
  },
  {
   "cell_type": "code",
   "execution_count": 2,
   "metadata": {
    "tags": []
   },
   "outputs": [
    {
     "name": "stdout",
     "output_type": "stream",
     "text": [
      "Loading dataset - svamp...\n",
      "Processing dataset...\n",
      "Dataset ready!\n"
     ]
    },
    {
     "data": {
      "text/html": [
       "<div>\n",
       "<style scoped>\n",
       "    .dataframe tbody tr th:only-of-type {\n",
       "        vertical-align: middle;\n",
       "    }\n",
       "\n",
       "    .dataframe tbody tr th {\n",
       "        vertical-align: top;\n",
       "    }\n",
       "\n",
       "    .dataframe thead th {\n",
       "        text-align: right;\n",
       "    }\n",
       "</style>\n",
       "<table border=\"1\" class=\"dataframe\">\n",
       "  <thead>\n",
       "    <tr style=\"text-align: right;\">\n",
       "      <th></th>\n",
       "      <th>question</th>\n",
       "      <th>answer</th>\n",
       "    </tr>\n",
       "  </thead>\n",
       "  <tbody>\n",
       "    <tr>\n",
       "      <th>0</th>\n",
       "      <td>There are 87 oranges and 290 bananas in Philip...</td>\n",
       "      <td>145</td>\n",
       "    </tr>\n",
       "    <tr>\n",
       "      <th>1</th>\n",
       "      <td>Marco and his dad went strawberry picking. Mar...</td>\n",
       "      <td>19</td>\n",
       "    </tr>\n",
       "    <tr>\n",
       "      <th>2</th>\n",
       "      <td>Edward spent $ 6 to buy 2 books each book cost...</td>\n",
       "      <td>3</td>\n",
       "    </tr>\n",
       "    <tr>\n",
       "      <th>3</th>\n",
       "      <td>Frank was reading through his favorite book. T...</td>\n",
       "      <td>198</td>\n",
       "    </tr>\n",
       "    <tr>\n",
       "      <th>4</th>\n",
       "      <td>There were 78 dollars in Olivia's wallet. She ...</td>\n",
       "      <td>63</td>\n",
       "    </tr>\n",
       "  </tbody>\n",
       "</table>\n",
       "</div>"
      ],
      "text/plain": [
       "                                            question answer\n",
       "0  There are 87 oranges and 290 bananas in Philip...    145\n",
       "1  Marco and his dad went strawberry picking. Mar...     19\n",
       "2  Edward spent $ 6 to buy 2 books each book cost...      3\n",
       "3  Frank was reading through his favorite book. T...    198\n",
       "4  There were 78 dollars in Olivia's wallet. She ...     63"
      ]
     },
     "execution_count": 2,
     "metadata": {},
     "output_type": "execute_result"
    }
   ],
   "source": [
    "# Load example dataset (SVAMP)\n",
    "svamp = (\n",
    "    load_example_dataset(\"svamp\")\n",
    "    .rename(columns={\"question_concat\": \"question\", \"Answer\": \"answer\"})[\n",
    "        [\"question\", \"answer\"]\n",
    "    ]\n",
    "    .head(50)\n",
    ")\n",
    "svamp.head()"
   ]
  },
  {
   "cell_type": "code",
   "execution_count": 3,
   "metadata": {
    "tags": []
   },
   "outputs": [],
   "source": [
    "# Define prompts\n",
    "MATH_INSTRUCTION = (\n",
    "    \"When you solve this math problem only return the answer with no additional text.\\n\"\n",
    ")\n",
    "prompts = [MATH_INSTRUCTION + prompt for prompt in svamp.question]"
   ]
  },
  {
   "cell_type": "code",
   "execution_count": 4,
   "metadata": {
    "tags": []
   },
   "outputs": [],
   "source": [
    "# Instantiate BaseChatModel\n",
    "from langchain_google_vertexai import ChatVertexAI\n",
    "\n",
    "llm = ChatVertexAI(model=\"gemini-pro\")"
   ]
  },
  {
   "cell_type": "markdown",
   "metadata": {},
   "source": [
    "Note that although we use `ChatVertexAI` in this example, any [LangChain Chat Model](https://js.langchain.com/docs/integrations/chat/) may be used."
   ]
  },
  {
   "cell_type": "markdown",
   "metadata": {},
   "source": [
    "<a id='section3'></a>\n",
    "## 3. Generate responses and confidence scores"
   ]
  },
  {
   "cell_type": "markdown",
   "metadata": {},
   "source": [
    "#### `SemanticEntropy()` - Class for detecting bad and speculative answer from a Large Language Model (LLM Hallucination).\n",
    "\n",
    "**Class Attributes:**\n",
    "- `llm` (**BaseChatModel, default=None**) A langchain llm (`BaseChatModel`). User is responsible for specifying temperature and other relevant parameters to the constructor of their `BaseChatModel` object.\n",
    "- `nli_scorer` - (**class_object, default=None**) A class object to compute the semantic similarity score using a natural language inference model. This object must have a `predict` method, which returns probability of contradiction for provided input. Default case, uses DeBERTA model trained on MNLI dataset.\n",
    "- `postprocessor` - (**f(str) -> str, default=None**) A user-defined function to postprocess responses.\n",
    "- `device` - (**str or torch.device input or torch.device object, default=\"cpu\"**) Specifies the device that classifiers use for prediction. Set to \"cuda\" for classifiers to be able to leverage the GPU.\n",
    "- `system_prompt` - (**str or None, default=\"You are a helpful assistant.\"**) Optional argument for user to provide custom system prompt\n",
    "- `max_calls_per_min` - (**int, default=None**) Specifies how many api calls to make per minute to avoid a rate limit error. By default, no limit is specified.\n",
    "- `use_n_param` (**bool, default=False**) Specifies whether to use `n` parameter for `BaseChatModel`. Not compatible with all `BaseChatModel` classes. If used, it speeds up the generation process substantially when `num_responses` is large.\n",
    "\n",
    "**Class Methods:**\n",
    "1. `evaluate` - Generate responses and evaluate confidence scores on LLM responses for the provided prompts.\n",
    "\n",
    "    **Method Attributes:**\n",
    "    - `prompts` - (**list of str**) A list of input prompts for the model.\n",
    "    - `responses` - (**list of str, default=None**) A list of model responses for the prompts. If not provided, this method will generate responses for `self.llm`. \n",
    "    - `multiple_responses` - (**list of list of str, default=None**) A list of multiple model responses, each element (multiple_responses[i]) is a list of str, containing multiple model responses for prompts[i]. If not provided, this method will generate responses for `self.llm`.\n",
    "    - `mr_temperature` - (**float, default=1**) The `temperature` parameter for llm model to generate multiple responses for observed consistency.\n",
    "    - `num_responses` - (**int, default=5**) The number of multiple responses used to compute observed consistency.\n",
    "    - `use_best` - (**bool, default=True**) Specifies whether to swap the original response for the uncertainty-minimized response based on semantic entropy clusters. \n",
    "    \n",
    "    **Returns:**\n",
    "        `UQResult` containing data (prompts, responses, and confidence scores) and metadata"
   ]
  },
  {
   "cell_type": "code",
   "execution_count": 5,
   "metadata": {
    "tags": []
   },
   "outputs": [],
   "source": [
    "import torch\n",
    "\n",
    "device = torch.device(\"cuda\")  # use if GPU available\n",
    "# device = None"
   ]
  },
  {
   "cell_type": "code",
   "execution_count": 6,
   "metadata": {
    "tags": []
   },
   "outputs": [
    {
     "name": "stderr",
     "output_type": "stream",
     "text": [
      "Some weights of the model checkpoint at microsoft/deberta-large-mnli were not used when initializing DebertaForSequenceClassification: ['config']\n",
      "- This IS expected if you are initializing DebertaForSequenceClassification from the checkpoint of a model trained on another task or with another architecture (e.g. initializing a BertForSequenceClassification model from a BertForPreTraining model).\n",
      "- This IS NOT expected if you are initializing DebertaForSequenceClassification from the checkpoint of a model that you expect to be exactly identical (initializing a BertForSequenceClassification model from a BertForSequenceClassification model).\n"
     ]
    }
   ],
   "source": [
    "se = SemanticEntropy(\n",
    "    llm=llm,\n",
    "    max_calls_per_min=250,  # set value to avoid rate limit error\n",
    "    device=device,  # use if GPU available\n",
    "    # postprocessor=math_postprocessor,\n",
    "    use_n_param=False,  # Set True if using AzureChatOpenAI for faster generation\n",
    ")"
   ]
  },
  {
   "cell_type": "code",
   "execution_count": 7,
   "metadata": {
    "tags": []
   },
   "outputs": [
    {
     "name": "stdout",
     "output_type": "stream",
     "text": [
      "Generating responses...\n",
      "Generating candidate responses...\n",
      "Computing confidence scores...\n"
     ]
    }
   ],
   "source": [
    "results = await se.evaluate(\n",
    "    prompts=prompts,\n",
    "    num_responses=10,\n",
    "    # responses=responses # provide if responses already generated\n",
    "    # multiple_responses=multiple_responses # provide if candidate responses already generated\n",
    ")"
   ]
  },
  {
   "cell_type": "code",
   "execution_count": 8,
   "metadata": {
    "tags": []
   },
   "outputs": [
    {
     "data": {
      "text/html": [
       "<div>\n",
       "<style scoped>\n",
       "    .dataframe tbody tr th:only-of-type {\n",
       "        vertical-align: middle;\n",
       "    }\n",
       "\n",
       "    .dataframe tbody tr th {\n",
       "        vertical-align: top;\n",
       "    }\n",
       "\n",
       "    .dataframe thead th {\n",
       "        text-align: right;\n",
       "    }\n",
       "</style>\n",
       "<table border=\"1\" class=\"dataframe\">\n",
       "  <thead>\n",
       "    <tr style=\"text-align: right;\">\n",
       "      <th></th>\n",
       "      <th>prompt</th>\n",
       "      <th>response</th>\n",
       "      <th>entropy_value</th>\n",
       "      <th>confidence_score</th>\n",
       "      <th>multiple_responses</th>\n",
       "    </tr>\n",
       "  </thead>\n",
       "  <tbody>\n",
       "    <tr>\n",
       "      <th>0</th>\n",
       "      <td>When you solve this math problem only return t...</td>\n",
       "      <td>145</td>\n",
       "      <td>0.000000</td>\n",
       "      <td>1.000000</td>\n",
       "      <td>[145, 145, 145, 145, 145, 145, 145, 145, 145, ...</td>\n",
       "    </tr>\n",
       "    <tr>\n",
       "      <th>1</th>\n",
       "      <td>When you solve this math problem only return t...</td>\n",
       "      <td>19</td>\n",
       "      <td>1.067094</td>\n",
       "      <td>0.536567</td>\n",
       "      <td>[19 pounds, 19 pounds., 19, 19 pounds. , 19 po...</td>\n",
       "    </tr>\n",
       "    <tr>\n",
       "      <th>2</th>\n",
       "      <td>When you solve this math problem only return t...</td>\n",
       "      <td>$3</td>\n",
       "      <td>1.540306</td>\n",
       "      <td>0.331054</td>\n",
       "      <td>[$3, $3, $3, $4, $3.00, $ 3, $3.00, $ 9., $3, 4$]</td>\n",
       "    </tr>\n",
       "    <tr>\n",
       "      <th>3</th>\n",
       "      <td>When you solve this math problem only return t...</td>\n",
       "      <td>198</td>\n",
       "      <td>0.304636</td>\n",
       "      <td>0.867698</td>\n",
       "      <td>[198, 198, 198, 198, 198, 198, 198\\n, 198, 198...</td>\n",
       "    </tr>\n",
       "    <tr>\n",
       "      <th>4</th>\n",
       "      <td>When you solve this math problem only return t...</td>\n",
       "      <td>63</td>\n",
       "      <td>1.055102</td>\n",
       "      <td>0.541775</td>\n",
       "      <td>[63, 63, 63, 63 dollars. \\nWould you like me t...</td>\n",
       "    </tr>\n",
       "  </tbody>\n",
       "</table>\n",
       "</div>"
      ],
      "text/plain": [
       "                                              prompt response  entropy_value  \\\n",
       "0  When you solve this math problem only return t...      145       0.000000   \n",
       "1  When you solve this math problem only return t...       19       1.067094   \n",
       "2  When you solve this math problem only return t...       $3       1.540306   \n",
       "3  When you solve this math problem only return t...      198       0.304636   \n",
       "4  When you solve this math problem only return t...       63       1.055102   \n",
       "\n",
       "   confidence_score                                 multiple_responses  \n",
       "0          1.000000  [145, 145, 145, 145, 145, 145, 145, 145, 145, ...  \n",
       "1          0.536567  [19 pounds, 19 pounds., 19, 19 pounds. , 19 po...  \n",
       "2          0.331054  [$3, $3, $3, $4, $3.00, $ 3, $3.00, $ 9., $3, 4$]  \n",
       "3          0.867698  [198, 198, 198, 198, 198, 198, 198\\n, 198, 198...  \n",
       "4          0.541775  [63, 63, 63, 63 dollars. \\nWould you like me t...  "
      ]
     },
     "execution_count": 8,
     "metadata": {},
     "output_type": "execute_result"
    }
   ],
   "source": [
    "result_df = results.to_df()\n",
    "result_df.head(5)"
   ]
  },
  {
   "cell_type": "markdown",
   "metadata": {},
   "source": [
    "<a id='section4'></a>\n",
    "## 4. Evaluate performance"
   ]
  },
  {
   "cell_type": "code",
   "execution_count": 9,
   "metadata": {
    "tags": []
   },
   "outputs": [
    {
     "data": {
      "text/html": [
       "<div>\n",
       "<style scoped>\n",
       "    .dataframe tbody tr th:only-of-type {\n",
       "        vertical-align: middle;\n",
       "    }\n",
       "\n",
       "    .dataframe tbody tr th {\n",
       "        vertical-align: top;\n",
       "    }\n",
       "\n",
       "    .dataframe thead th {\n",
       "        text-align: right;\n",
       "    }\n",
       "</style>\n",
       "<table border=\"1\" class=\"dataframe\">\n",
       "  <thead>\n",
       "    <tr style=\"text-align: right;\">\n",
       "      <th></th>\n",
       "      <th>prompt</th>\n",
       "      <th>response</th>\n",
       "      <th>entropy_value</th>\n",
       "      <th>confidence_score</th>\n",
       "      <th>multiple_responses</th>\n",
       "      <th>answer</th>\n",
       "      <th>response_correct</th>\n",
       "    </tr>\n",
       "  </thead>\n",
       "  <tbody>\n",
       "    <tr>\n",
       "      <th>0</th>\n",
       "      <td>When you solve this math problem only return t...</td>\n",
       "      <td>145</td>\n",
       "      <td>0.000000</td>\n",
       "      <td>1.000000</td>\n",
       "      <td>[145, 145, 145, 145, 145, 145, 145, 145, 145, ...</td>\n",
       "      <td>145</td>\n",
       "      <td>True</td>\n",
       "    </tr>\n",
       "    <tr>\n",
       "      <th>1</th>\n",
       "      <td>When you solve this math problem only return t...</td>\n",
       "      <td>19</td>\n",
       "      <td>1.067094</td>\n",
       "      <td>0.536567</td>\n",
       "      <td>[19 pounds, 19 pounds., 19, 19 pounds. , 19 po...</td>\n",
       "      <td>19</td>\n",
       "      <td>True</td>\n",
       "    </tr>\n",
       "    <tr>\n",
       "      <th>2</th>\n",
       "      <td>When you solve this math problem only return t...</td>\n",
       "      <td>$3</td>\n",
       "      <td>1.540306</td>\n",
       "      <td>0.331054</td>\n",
       "      <td>[$3, $3, $3, $4, $3.00, $ 3, $3.00, $ 9., $3, 4$]</td>\n",
       "      <td>3</td>\n",
       "      <td>True</td>\n",
       "    </tr>\n",
       "    <tr>\n",
       "      <th>3</th>\n",
       "      <td>When you solve this math problem only return t...</td>\n",
       "      <td>198</td>\n",
       "      <td>0.304636</td>\n",
       "      <td>0.867698</td>\n",
       "      <td>[198, 198, 198, 198, 198, 198, 198\\n, 198, 198...</td>\n",
       "      <td>198</td>\n",
       "      <td>True</td>\n",
       "    </tr>\n",
       "    <tr>\n",
       "      <th>4</th>\n",
       "      <td>When you solve this math problem only return t...</td>\n",
       "      <td>63</td>\n",
       "      <td>1.055102</td>\n",
       "      <td>0.541775</td>\n",
       "      <td>[63, 63, 63, 63 dollars. \\nWould you like me t...</td>\n",
       "      <td>63</td>\n",
       "      <td>True</td>\n",
       "    </tr>\n",
       "  </tbody>\n",
       "</table>\n",
       "</div>"
      ],
      "text/plain": [
       "                                              prompt response  entropy_value  \\\n",
       "0  When you solve this math problem only return t...      145       0.000000   \n",
       "1  When you solve this math problem only return t...       19       1.067094   \n",
       "2  When you solve this math problem only return t...       $3       1.540306   \n",
       "3  When you solve this math problem only return t...      198       0.304636   \n",
       "4  When you solve this math problem only return t...       63       1.055102   \n",
       "\n",
       "   confidence_score                                 multiple_responses answer  \\\n",
       "0          1.000000  [145, 145, 145, 145, 145, 145, 145, 145, 145, ...    145   \n",
       "1          0.536567  [19 pounds, 19 pounds., 19, 19 pounds. , 19 po...     19   \n",
       "2          0.331054  [$3, $3, $3, $4, $3.00, $ 3, $3.00, $ 9., $3, 4$]      3   \n",
       "3          0.867698  [198, 198, 198, 198, 198, 198, 198\\n, 198, 198...    198   \n",
       "4          0.541775  [63, 63, 63, 63 dollars. \\nWould you like me t...     63   \n",
       "\n",
       "   response_correct  \n",
       "0              True  \n",
       "1              True  \n",
       "2              True  \n",
       "3              True  \n",
       "4              True  "
      ]
     },
     "execution_count": 9,
     "metadata": {},
     "output_type": "execute_result"
    }
   ],
   "source": [
    "# Populate correct answers and grade responses\n",
    "result_df[\"answer\"] = svamp.answer\n",
    "result_df[\"response_correct\"] = [\n",
    "    math_postprocessor(r) == a for r, a in zip(result_df[\"response\"], svamp[\"answer\"])\n",
    "]\n",
    "result_df.head(5)"
   ]
  },
  {
   "cell_type": "code",
   "execution_count": 11,
   "metadata": {
    "tags": []
   },
   "outputs": [
    {
     "name": "stdout",
     "output_type": "stream",
     "text": [
      "Baseline LLM accuracy: 0.72\n"
     ]
    }
   ],
   "source": [
    "print(f\"\"\"Baseline LLM accuracy: {np.mean(result_df[\"response_correct\"])}\"\"\")"
   ]
  },
  {
   "cell_type": "markdown",
   "metadata": {},
   "source": [
    "Next we will plot filtered LLM accuracy at various confidence score thresholds. The idea is to measure the LLM's performance when we consider responses with confidence scores above a given threshold."
   ]
  },
  {
   "cell_type": "code",
   "execution_count": 22,
   "metadata": {
    "tags": []
   },
   "outputs": [
    {
     "data": {
      "image/png": "[encoded data removed]",
      "text/plain": [
       "<Figure size 640x480 with 1 Axes>"
      ]
     },
     "metadata": {},
     "output_type": "display_data"
    }
   ],
   "source": [
    "plot_model_accuracies(\n",
    "    scores=result_df.confidence_score, correct_indicators=result_df.response_correct\n",
    ")"
   ]
  },
  {
   "cell_type": "markdown",
   "metadata": {},
   "source": [
    "Lastly, we will compute the optimal threshold for binarizing confidence scores, using F1-score as the objective. Using this threshold, we can compute precision, recall, and F1-score for semantic entropy predictions of whether responses are correct."
   ]
  },
  {
   "cell_type": "code",
   "execution_count": 26,
   "metadata": {
    "tags": []
   },
   "outputs": [
    {
     "name": "stdout",
     "output_type": "stream",
     "text": [
      "Semantic entropy F1-optimal threshold: 0.5\n"
     ]
    }
   ],
   "source": [
    "# instantiate UQLM tuner object for threshold selection\n",
    "t = Tuner()\n",
    "\n",
    "# Define score vector and corresponding correct indicators (i.e. ground truth)\n",
    "y_scores = result_df[\"confidence_score\"]  # confidence score\n",
    "correct_indicators = (\n",
    "    result_df.response_correct\n",
    ") * 1  # Whether responses is actually correct\n",
    "\n",
    "# Solve for threshold that maximizes F1-score\n",
    "best_threshold = t.tune_threshold(\n",
    "    y_scores=y_scores,\n",
    "    correct_indicators=correct_indicators,\n",
    "    thresh_objective=\"fbeta_score\",\n",
    ")\n",
    "y_pred = [\n",
    "    (s > best_threshold) * 1 for s in y_scores\n",
    "]  # predicts whether response is correct based on confidence score\n",
    "print(f\"Semantic entropy F1-optimal threshold: {best_threshold}\")"
   ]
  },
  {
   "cell_type": "code",
   "execution_count": 25,
   "metadata": {
    "tags": []
   },
   "outputs": [
    {
     "name": "stdout",
     "output_type": "stream",
     "text": [
      "Semantic entropy precision: 0.8048780487804879\n",
      "Semantic entropy recall: 0.9166666666666666\n",
      "Semantic entropy f1-score: 0.8571428571428571\n"
     ]
    }
   ],
   "source": [
    "# evaluate precision, recall, and f1-score of semantic entropy predictions of correctness\n",
    "print(\n",
    "    f\"Semantic entropy precision: {precision_score(y_true=correct_indicators, y_pred=y_pred)}\"\n",
    ")\n",
    "print(\n",
    "    f\"Semantic entropy recall: {recall_score(y_true=correct_indicators, y_pred=y_pred)}\"\n",
    ")\n",
    "print(\n",
    "    f\"Semantic entropy f1-score: {f1_score(y_true=correct_indicators, y_pred=y_pred)}\"\n",
    ")"
   ]
  }
 ],
 "metadata": {
  "environment": {
   "kernel": "uqlm_kernel",
   "name": "workbench-notebooks.m122",
   "type": "gcloud",
   "uri": "us-docker.pkg.dev/deeplearning-platform-release/gcr.io/workbench-notebooks:m122"
  },
  "kernelspec": {
   "display_name": "uqlm_kernel (Local)",
   "language": "python",
   "name": "uqlm_kernel"
  },
  "language_info": {
   "codemirror_mode": {
    "name": "ipython",
    "version": 3
   },
   "file_extension": ".py",
   "mimetype": "text/x-python",
   "name": "python",
   "nbconvert_exporter": "python",
   "pygments_lexer": "ipython3",
   "version": "3.10.14"
  }
 },
 "nbformat": 4,
 "nbformat_minor": 4
}
